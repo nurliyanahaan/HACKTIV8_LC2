{
 "cells": [
  {
   "cell_type": "markdown",
   "metadata": {},
   "source": [
    "# LIVE CODE 2 \n",
    "\n",
    "NAME    : AAN NURLIYANAH \n",
    "\n",
    "BATCH   : 002"
   ]
  },
  {
   "cell_type": "markdown",
   "metadata": {},
   "source": [
    "## Problem 1"
   ]
  },
  {
   "cell_type": "markdown",
   "metadata": {},
   "source": [
    "Kamu sedang mencari rumah dan akan memilih satu dari dua pilihan rumah dengan harga yang cukup berbeda. Sekilas, kedua rumah sama karakteristiknya, namun kamu ingin memastikan kembali apakah rumah yang lebih mahal patut dibeli atau tidak. Berikut data kedua rumah:\n",
    "\n",
    "|Rumah|Luas Tanah|Luas Bangunan|Jumlah Lantai|Jumlah Kamar Tidur|Jumlah Kamar Mandi|Ada Halaman Belakang?|Ada Parkir Mobil dan Motor?|Dekat Dengan Pusat Kota?|Harga|\n",
    "|--- |--- |--- |--- |--- |--- |--- |--- |--- |--- |\n",
    "| Rumah 1 | 100  | 240 |3|3|2|0|1|1|800|\n",
    "| Rumah 2 | 120 | 200 |2|2|2|1|1|1|600|\n",
    "\n",
    "**Keterangan:**\n",
    "- Pada kolom `Jumlah Kamar Tidur`, `Jumlah Kamar Mandi`, `Ada Halaman Belakang?`, `Ada Parkir Mobil dan Motor?`, serta `Dekat Dengan Pusat Kota?` bernilai biner yaitu `1: Ya` dan `0: Tidak`.\n",
    "- Kolom `harga` dalam satuan `ratus juta`."
   ]
  },
  {
   "cell_type": "markdown",
   "metadata": {},
   "source": [
    "Buatlah vektor yang merupakan representasi masing-masing rumah berdasarkan tabel di atas dengan `mengecualikan kolom harga` dan hitung cosine similarity antar kedua vektor. Kemudian *jawab pertanyaan berikut* di **markdown**:\n",
    "\n",
    "a. Apakah kedua rumah mirip? jika iya, mengapa dan jika tidak, mengapa (jawab berdasarkan hasil perhitungan cosine similaritynya)? Dan keputusan yang akhirnya kamu pilih, rumah 1 atau rumah 2? apa pertimbangannya?\n",
    "\n",
    "b. Jika meninjau dua buah vektor dan dihitung cosine similaritynya (cos theta), jelaskan secara singkat, jelas, padat apa makna cosine similarity yang bernilai 0 dan 1 (tinjau dari posisi dua vektor di koordinat kartesian)?\n",
    "\n",
    "c. Mengapa cosine similarity harus melibatkan vektor bukan matriks?"
   ]
  },
  {
   "cell_type": "markdown",
   "metadata": {},
   "source": [
    "Import Pustaka"
   ]
  },
  {
   "cell_type": "code",
   "execution_count": 1,
   "metadata": {},
   "outputs": [],
   "source": [
    "import numpy as np \n",
    "import pandas as pd\n",
    "import matplotlib.pyplot as plt\n",
    "from scipy import stats\n",
    "import seaborn as sns"
   ]
  },
  {
   "cell_type": "markdown",
   "metadata": {},
   "source": [
    "Library atau pustaka yang digunakan dalam live code ini adalah numpy, pandas, matplotlib, scipy dan seaborn. "
   ]
  },
  {
   "cell_type": "markdown",
   "metadata": {},
   "source": [
    "Membuat vektor rumah1 dan rumah2"
   ]
  },
  {
   "cell_type": "code",
   "execution_count": 2,
   "metadata": {},
   "outputs": [
    {
     "data": {
      "text/plain": [
       "(array([3, 3, 2, 0, 1, 1]), array([2, 2, 2, 1, 1, 1]))"
      ]
     },
     "execution_count": 2,
     "metadata": {},
     "output_type": "execute_result"
    }
   ],
   "source": [
    "rumah1=np.array([3,3,2,0,1,1])\n",
    "rumah2=np.array([2,2,2,1,1,1])\n",
    "rumah1, rumah2"
   ]
  },
  {
   "cell_type": "markdown",
   "metadata": {},
   "source": [
    "Mencari nilai cos teta atau cosin similarity "
   ]
  },
  {
   "cell_type": "code",
   "execution_count": 3,
   "metadata": {},
   "outputs": [
    {
     "data": {
      "text/plain": [
       "0.9486832980505138"
      ]
     },
     "execution_count": 3,
     "metadata": {},
     "output_type": "execute_result"
    }
   ],
   "source": [
    "hasilkali = rumah1 @ rumah2\n",
    "cos_teta = hasilkali/(np.linalg.norm(rumah1) * np.linalg.norm(rumah2))\n",
    "\n",
    "cos_teta\n"
   ]
  },
  {
   "cell_type": "code",
   "execution_count": 4,
   "metadata": {},
   "outputs": [
    {
     "data": {
      "text/plain": [
       "94.86832980505137"
      ]
     },
     "execution_count": 4,
     "metadata": {},
     "output_type": "execute_result"
    }
   ],
   "source": [
    "a = 0.9486832980505138 *100 \n",
    "a"
   ]
  },
  {
   "cell_type": "markdown",
   "metadata": {},
   "source": [
    "a. Apakah kedua rumah mirip? jika iya, mengapa dan jika tidak, mengapa (jawab berdasarkan hasil perhitungan cosine similaritynya)? Dan keputusan yang akhirnya kamu pilih, rumah 1 atau rumah 2? apa pertimbangannya?\n",
    "\n",
    "\n",
    "Jawab :\n",
    "\n",
    "Kedua rumah diasumsikan mirip karena Nilai cosin similarity nya sebesar 0.9486832980505138 atau  94,86% atau mendekati nilai 1 ,yang artinya data sangat simillar/ mirip. Saya memilih rumah nomor 2 karena dengan harga lebih murah mendapatkan luas tanah yang lebih besar dan memiliki halamna belakang. Jika dilihat dari penilain cosin similarity hasilnya kedua rumah tsb simillar oleh karena itu saya memilih rumah dengan harga yang lebih murah. \n"
   ]
  },
  {
   "cell_type": "markdown",
   "metadata": {},
   "source": [
    "b. Jika meninjau dua buah vektor dan dihitung cosine similaritynya (cos theta), jelaskan secara singkat, jelas, padat apa makna cosine similarity yang bernilai 0 dan 1 (tinjau dari posisi dua vektor di koordinat kartesian)?\n",
    "\n",
    "\n",
    "Jawab: \n",
    "\n",
    "Jika dua Vektor dengan kemiripan cosinus  atau cosin similaritynya = 0 berarti kedua vektor tersebut berada pada sudut yang sama.\n",
    "Jika Dua Vektor dengan kemiripan cosinus atau cosin similaritynya = 1 berarti kedua vektor terpisah 90 derajat satu sama lain.\n",
    "  "
   ]
  },
  {
   "cell_type": "markdown",
   "metadata": {},
   "source": [
    "c. Mengapa cosine similarity harus melibatkan vektor bukan matriks?\n",
    "\n",
    "jawab: \n",
    "Cosine similarity mengukur kesamaan antara dua vektor. Cosin similarity menggunakan cosinus sudut antara dua vektor dan menentukan apakah dua vektor menunjuk ke arah yang kira-kira sama. Misalnya digunakan untuk mengukur kesamaan dokumen dalam analisis teks.\n",
    "Kenapa bukan matrix ? karena matrix memiliki 2 dimensi dan matrix tidak memiliki arah sehingga tidak bisa dihitung kesamaan kosinus sudutnya. "
   ]
  },
  {
   "cell_type": "markdown",
   "metadata": {},
   "source": [
    "## Problem 2\n",
    "\n",
    "Kamu diberikan tugas untuk menganalisis harga sewa apartemen di Argentina per Januari 2015. Gunakan kemampuan statistikamu untuk menganalisis data yang tersedia!"
   ]
  },
  {
   "cell_type": "markdown",
   "metadata": {},
   "source": [
    "SQL code yang diterapkan pada saat pengambilan dataset adalah sbb:\n",
    "\n",
    "\n",
    "SELECT price\n",
    "FROM `bigquery-public-data.properati_properties_ar.properties_rent_201501` \n",
    "\n",
    "WHERE operation = 'rent' AND\n",
    "property_type = 'apartment'\n",
    "\n",
    "\n",
    "Memanggil data yang sudah di download dan di simpan di local folder dengan nama `h8dsft_P0LC3_Aan_Nurliyanah.csv` , data berasal dari Big Query Public Dataset, data diambil di bagian `bigquery-public-data`. Tabel yang digunakan dalam tugas ini adalah tabel `properties_rent_201501` pada dataset `properati_properties_ar`. dengan kondisi - Pilih **HANYA** kolom `price`\n",
    "   - Pilih data dengan value `operation` 'rent' dan `property_type` 'Apartement`."
   ]
  },
  {
   "cell_type": "code",
   "execution_count": 5,
   "metadata": {},
   "outputs": [],
   "source": [
    "df_price = pd.read_csv('h8dsft_P0LC3_Aan_Nurliyanah.csv', na_values=['?',' ','99999','N/A'])"
   ]
  },
  {
   "cell_type": "code",
   "execution_count": 6,
   "metadata": {},
   "outputs": [
    {
     "data": {
      "text/html": [
       "<div>\n",
       "<style scoped>\n",
       "    .dataframe tbody tr th:only-of-type {\n",
       "        vertical-align: middle;\n",
       "    }\n",
       "\n",
       "    .dataframe tbody tr th {\n",
       "        vertical-align: top;\n",
       "    }\n",
       "\n",
       "    .dataframe thead th {\n",
       "        text-align: right;\n",
       "    }\n",
       "</style>\n",
       "<table border=\"1\" class=\"dataframe\">\n",
       "  <thead>\n",
       "    <tr style=\"text-align: right;\">\n",
       "      <th></th>\n",
       "      <th>price</th>\n",
       "    </tr>\n",
       "  </thead>\n",
       "  <tbody>\n",
       "    <tr>\n",
       "      <th>0</th>\n",
       "      <td>2500</td>\n",
       "    </tr>\n",
       "    <tr>\n",
       "      <th>1</th>\n",
       "      <td>3500</td>\n",
       "    </tr>\n",
       "    <tr>\n",
       "      <th>2</th>\n",
       "      <td>2850</td>\n",
       "    </tr>\n",
       "    <tr>\n",
       "      <th>3</th>\n",
       "      <td>1850</td>\n",
       "    </tr>\n",
       "    <tr>\n",
       "      <th>4</th>\n",
       "      <td>1000</td>\n",
       "    </tr>\n",
       "    <tr>\n",
       "      <th>...</th>\n",
       "      <td>...</td>\n",
       "    </tr>\n",
       "    <tr>\n",
       "      <th>1653</th>\n",
       "      <td>500</td>\n",
       "    </tr>\n",
       "    <tr>\n",
       "      <th>1654</th>\n",
       "      <td>500</td>\n",
       "    </tr>\n",
       "    <tr>\n",
       "      <th>1655</th>\n",
       "      <td>500</td>\n",
       "    </tr>\n",
       "    <tr>\n",
       "      <th>1656</th>\n",
       "      <td>500</td>\n",
       "    </tr>\n",
       "    <tr>\n",
       "      <th>1657</th>\n",
       "      <td>500</td>\n",
       "    </tr>\n",
       "  </tbody>\n",
       "</table>\n",
       "<p>1658 rows × 1 columns</p>\n",
       "</div>"
      ],
      "text/plain": [
       "      price\n",
       "0      2500\n",
       "1      3500\n",
       "2      2850\n",
       "3      1850\n",
       "4      1000\n",
       "...     ...\n",
       "1653    500\n",
       "1654    500\n",
       "1655    500\n",
       "1656    500\n",
       "1657    500\n",
       "\n",
       "[1658 rows x 1 columns]"
      ]
     },
     "execution_count": 6,
     "metadata": {},
     "output_type": "execute_result"
    }
   ],
   "source": [
    "df_price"
   ]
  },
  {
   "cell_type": "markdown",
   "metadata": {},
   "source": [
    "menampilkan data teratas"
   ]
  },
  {
   "cell_type": "code",
   "execution_count": 7,
   "metadata": {},
   "outputs": [
    {
     "data": {
      "text/html": [
       "<div>\n",
       "<style scoped>\n",
       "    .dataframe tbody tr th:only-of-type {\n",
       "        vertical-align: middle;\n",
       "    }\n",
       "\n",
       "    .dataframe tbody tr th {\n",
       "        vertical-align: top;\n",
       "    }\n",
       "\n",
       "    .dataframe thead th {\n",
       "        text-align: right;\n",
       "    }\n",
       "</style>\n",
       "<table border=\"1\" class=\"dataframe\">\n",
       "  <thead>\n",
       "    <tr style=\"text-align: right;\">\n",
       "      <th></th>\n",
       "      <th>price</th>\n",
       "    </tr>\n",
       "  </thead>\n",
       "  <tbody>\n",
       "    <tr>\n",
       "      <th>0</th>\n",
       "      <td>2500</td>\n",
       "    </tr>\n",
       "    <tr>\n",
       "      <th>1</th>\n",
       "      <td>3500</td>\n",
       "    </tr>\n",
       "    <tr>\n",
       "      <th>2</th>\n",
       "      <td>2850</td>\n",
       "    </tr>\n",
       "    <tr>\n",
       "      <th>3</th>\n",
       "      <td>1850</td>\n",
       "    </tr>\n",
       "    <tr>\n",
       "      <th>4</th>\n",
       "      <td>1000</td>\n",
       "    </tr>\n",
       "  </tbody>\n",
       "</table>\n",
       "</div>"
      ],
      "text/plain": [
       "   price\n",
       "0   2500\n",
       "1   3500\n",
       "2   2850\n",
       "3   1850\n",
       "4   1000"
      ]
     },
     "execution_count": 7,
     "metadata": {},
     "output_type": "execute_result"
    }
   ],
   "source": [
    "df_price.head()"
   ]
  },
  {
   "cell_type": "markdown",
   "metadata": {},
   "source": [
    "Menampilkan data terbawah"
   ]
  },
  {
   "cell_type": "code",
   "execution_count": 8,
   "metadata": {},
   "outputs": [
    {
     "data": {
      "text/html": [
       "<div>\n",
       "<style scoped>\n",
       "    .dataframe tbody tr th:only-of-type {\n",
       "        vertical-align: middle;\n",
       "    }\n",
       "\n",
       "    .dataframe tbody tr th {\n",
       "        vertical-align: top;\n",
       "    }\n",
       "\n",
       "    .dataframe thead th {\n",
       "        text-align: right;\n",
       "    }\n",
       "</style>\n",
       "<table border=\"1\" class=\"dataframe\">\n",
       "  <thead>\n",
       "    <tr style=\"text-align: right;\">\n",
       "      <th></th>\n",
       "      <th>price</th>\n",
       "    </tr>\n",
       "  </thead>\n",
       "  <tbody>\n",
       "    <tr>\n",
       "      <th>1653</th>\n",
       "      <td>500</td>\n",
       "    </tr>\n",
       "    <tr>\n",
       "      <th>1654</th>\n",
       "      <td>500</td>\n",
       "    </tr>\n",
       "    <tr>\n",
       "      <th>1655</th>\n",
       "      <td>500</td>\n",
       "    </tr>\n",
       "    <tr>\n",
       "      <th>1656</th>\n",
       "      <td>500</td>\n",
       "    </tr>\n",
       "    <tr>\n",
       "      <th>1657</th>\n",
       "      <td>500</td>\n",
       "    </tr>\n",
       "  </tbody>\n",
       "</table>\n",
       "</div>"
      ],
      "text/plain": [
       "      price\n",
       "1653    500\n",
       "1654    500\n",
       "1655    500\n",
       "1656    500\n",
       "1657    500"
      ]
     },
     "execution_count": 8,
     "metadata": {},
     "output_type": "execute_result"
    }
   ],
   "source": [
    "df_price.tail()"
   ]
  },
  {
   "cell_type": "markdown",
   "metadata": {},
   "source": [
    "Melihat banyak kolom dan baris"
   ]
  },
  {
   "cell_type": "code",
   "execution_count": 9,
   "metadata": {},
   "outputs": [
    {
     "data": {
      "text/plain": [
       "(1658, 1)"
      ]
     },
     "execution_count": 9,
     "metadata": {},
     "output_type": "execute_result"
    }
   ],
   "source": [
    "df_price.shape"
   ]
  },
  {
   "cell_type": "markdown",
   "metadata": {},
   "source": [
    "mendeteksi missing value dengan menggunakan isnull "
   ]
  },
  {
   "cell_type": "code",
   "execution_count": 10,
   "metadata": {},
   "outputs": [
    {
     "data": {
      "text/plain": [
       "price    0\n",
       "dtype: int64"
      ]
     },
     "execution_count": 10,
     "metadata": {},
     "output_type": "execute_result"
    }
   ],
   "source": [
    "df_price.isnull().sum()"
   ]
  },
  {
   "cell_type": "markdown",
   "metadata": {},
   "source": [
    "Melihat tipe data dan banyaknya data "
   ]
  },
  {
   "cell_type": "code",
   "execution_count": 11,
   "metadata": {},
   "outputs": [
    {
     "name": "stdout",
     "output_type": "stream",
     "text": [
      "<class 'pandas.core.frame.DataFrame'>\n",
      "RangeIndex: 1658 entries, 0 to 1657\n",
      "Data columns (total 1 columns):\n",
      " #   Column  Non-Null Count  Dtype\n",
      "---  ------  --------------  -----\n",
      " 0   price   1658 non-null   int64\n",
      "dtypes: int64(1)\n",
      "memory usage: 13.1 KB\n"
     ]
    }
   ],
   "source": [
    "df_price.info()"
   ]
  },
  {
   "cell_type": "markdown",
   "metadata": {},
   "source": [
    "Menghitung Central Tendency (mean, median, mode)"
   ]
  },
  {
   "cell_type": "code",
   "execution_count": 12,
   "metadata": {},
   "outputs": [
    {
     "name": "stdout",
     "output_type": "stream",
     "text": [
      "Mean: 5166.355247285886\n",
      "Median: 2700.0\n",
      "Mode: 0\n"
     ]
    }
   ],
   "source": [
    "print ('Mean: ' + str(df_price['price'].mean()))\n",
    "print ('Median: ' + str(df_price['price'].median()))\n",
    "print ('Mode: ' + str(df_price['price'].mode()[0]))"
   ]
  },
  {
   "cell_type": "code",
   "execution_count": 13,
   "metadata": {},
   "outputs": [
    {
     "name": "stdout",
     "output_type": "stream",
     "text": [
      "4.2401362864090695\n"
     ]
    }
   ],
   "source": [
    "print(df_price['price'].skew())"
   ]
  },
  {
   "cell_type": "markdown",
   "metadata": {},
   "source": [
    "Nilai skew = 4.2401362864090695, \n",
    "Jika skewness kurang dari -1 atau lebih 1 maka data highly skewed.\n",
    "Dapat diasumsikan bahwa data highly skewed dan memiliki right skew."
   ]
  },
  {
   "cell_type": "code",
   "execution_count": 14,
   "metadata": {},
   "outputs": [
    {
     "data": {
      "image/png": "[encoded data removed]",
      "text/plain": [
       "<Figure size 432x288 with 1 Axes>"
      ]
     },
     "metadata": {
      "needs_background": "light"
     },
     "output_type": "display_data"
    }
   ],
   "source": [
    "plotprice = df_price['price']\n",
    "plotprice.plot.hist(title='Price Apartment ', color='lightblue', bins=25)\n",
    " \n",
    "plt.axvline(plotprice.mean(), color='red', linestyle='dashed', linewidth=2)\n",
    "plt.axvline(plotprice.median(), color='green', linestyle='dashed', linewidth=2)\n",
    "plt.show()"
   ]
  },
  {
   "cell_type": "code",
   "execution_count": 15,
   "metadata": {},
   "outputs": [
    {
     "data": {
      "text/plain": [
       "<seaborn.axisgrid.FacetGrid at 0x1e875906e50>"
      ]
     },
     "execution_count": 15,
     "metadata": {},
     "output_type": "execute_result"
    },
    {
     "data": {
      "image/png": "[encoded data removed]",
      "text/plain": [
       "<Figure size 360x360 with 1 Axes>"
      ]
     },
     "metadata": {
      "needs_background": "light"
     },
     "output_type": "display_data"
    }
   ],
   "source": [
    "sns.displot(df_price.price, kde=True, label='Price Apartment')"
   ]
  },
  {
   "cell_type": "markdown",
   "metadata": {},
   "source": [
    "Dilihat dari visualisasi tersebut maka disimpulkan data mempunyai right skew. \n",
    "Kerana data memiliki sisi kanan yang lebih banyak maka dapat diasumsikan bahwa terdapat data outliers. "
   ]
  },
  {
   "cell_type": "code",
   "execution_count": 16,
   "metadata": {},
   "outputs": [
    {
     "data": {
      "text/plain": [
       "<AxesSubplot:ylabel='price'>"
      ]
     },
     "execution_count": 16,
     "metadata": {},
     "output_type": "execute_result"
    },
    {
     "data": {
      "image/png": "[encoded data removed]",
      "text/plain": [
       "<Figure size 432x288 with 1 Axes>"
      ]
     },
     "metadata": {
      "needs_background": "light"
     },
     "output_type": "display_data"
    }
   ],
   "source": [
    "sns.boxplot(data=df_price, y='price')"
   ]
  },
  {
   "cell_type": "markdown",
   "metadata": {},
   "source": [
    "Karena data memiliki outlier maka kita akan handling outlier dengan menetapkan lower dan upper bundary atau batasan atas dan bawah dengan metode tukey, rumus :\n",
    "\n",
    "Upper boundary = Q3 + (IQR * 1.5)\n",
    "\n",
    "Lower boundary = Q1 -(IQR * 1.5)"
   ]
  },
  {
   "cell_type": "code",
   "execution_count": 17,
   "metadata": {},
   "outputs": [],
   "source": [
    "#Menghitung quartil1, quartil3 dan IQR\n",
    "Quartil1 = df_price['price'].quantile(q=0.25)\n",
    "Quartil3 = df_price['price'].quantile(q=0.75)\n",
    "IQR = df_price['price'].quantile(q=0.75) - df_price['price'].quantile(q=0.25)"
   ]
  },
  {
   "cell_type": "code",
   "execution_count": 18,
   "metadata": {},
   "outputs": [
    {
     "data": {
      "text/plain": [
       "13750.0"
      ]
     },
     "execution_count": 18,
     "metadata": {},
     "output_type": "execute_result"
    }
   ],
   "source": [
    "Upper = Quartil3 + (IQR*1.5)\n",
    "Upper "
   ]
  },
  {
   "cell_type": "code",
   "execution_count": 19,
   "metadata": {},
   "outputs": [
    {
     "data": {
      "text/plain": [
       "-8250.0"
      ]
     },
     "execution_count": 19,
     "metadata": {},
     "output_type": "execute_result"
    }
   ],
   "source": [
    "Lower = Quartil1 - (IQR*1.5)\n",
    "Lower"
   ]
  },
  {
   "cell_type": "markdown",
   "metadata": {},
   "source": [
    "Yang akan kita gunakan adalah batasan atas (upper) karena terdapat outlier di bagian atas boxplot. "
   ]
  },
  {
   "cell_type": "code",
   "execution_count": 20,
   "metadata": {},
   "outputs": [
    {
     "data": {
      "text/html": [
       "<div>\n",
       "<style scoped>\n",
       "    .dataframe tbody tr th:only-of-type {\n",
       "        vertical-align: middle;\n",
       "    }\n",
       "\n",
       "    .dataframe tbody tr th {\n",
       "        vertical-align: top;\n",
       "    }\n",
       "\n",
       "    .dataframe thead th {\n",
       "        text-align: right;\n",
       "    }\n",
       "</style>\n",
       "<table border=\"1\" class=\"dataframe\">\n",
       "  <thead>\n",
       "    <tr style=\"text-align: right;\">\n",
       "      <th></th>\n",
       "      <th>price</th>\n",
       "    </tr>\n",
       "  </thead>\n",
       "  <tbody>\n",
       "    <tr>\n",
       "      <th>21</th>\n",
       "      <td>15000</td>\n",
       "    </tr>\n",
       "    <tr>\n",
       "      <th>26</th>\n",
       "      <td>19000</td>\n",
       "    </tr>\n",
       "    <tr>\n",
       "      <th>27</th>\n",
       "      <td>30000</td>\n",
       "    </tr>\n",
       "    <tr>\n",
       "      <th>33</th>\n",
       "      <td>45000</td>\n",
       "    </tr>\n",
       "    <tr>\n",
       "      <th>82</th>\n",
       "      <td>16000</td>\n",
       "    </tr>\n",
       "    <tr>\n",
       "      <th>...</th>\n",
       "      <td>...</td>\n",
       "    </tr>\n",
       "    <tr>\n",
       "      <th>910</th>\n",
       "      <td>14000</td>\n",
       "    </tr>\n",
       "    <tr>\n",
       "      <th>928</th>\n",
       "      <td>25000</td>\n",
       "    </tr>\n",
       "    <tr>\n",
       "      <th>933</th>\n",
       "      <td>15000</td>\n",
       "    </tr>\n",
       "    <tr>\n",
       "      <th>952</th>\n",
       "      <td>24000</td>\n",
       "    </tr>\n",
       "    <tr>\n",
       "      <th>993</th>\n",
       "      <td>16000</td>\n",
       "    </tr>\n",
       "  </tbody>\n",
       "</table>\n",
       "<p>158 rows × 1 columns</p>\n",
       "</div>"
      ],
      "text/plain": [
       "     price\n",
       "21   15000\n",
       "26   19000\n",
       "27   30000\n",
       "33   45000\n",
       "82   16000\n",
       "..     ...\n",
       "910  14000\n",
       "928  25000\n",
       "933  15000\n",
       "952  24000\n",
       "993  16000\n",
       "\n",
       "[158 rows x 1 columns]"
      ]
     },
     "execution_count": 20,
     "metadata": {},
     "output_type": "execute_result"
    }
   ],
   "source": [
    "df_price[df_price['price']>13750.0]"
   ]
  },
  {
   "cell_type": "code",
   "execution_count": 21,
   "metadata": {},
   "outputs": [
    {
     "data": {
      "text/plain": [
       "(1658, 1)"
      ]
     },
     "execution_count": 21,
     "metadata": {},
     "output_type": "execute_result"
    }
   ],
   "source": [
    "df_price.shape"
   ]
  },
  {
   "cell_type": "code",
   "execution_count": 22,
   "metadata": {},
   "outputs": [
    {
     "data": {
      "text/plain": [
       "9.529553679131483"
      ]
     },
     "execution_count": 22,
     "metadata": {},
     "output_type": "execute_result"
    }
   ],
   "source": [
    "persen = (158/1658) * 100\n",
    "persen"
   ]
  },
  {
   "cell_type": "markdown",
   "metadata": {},
   "source": [
    "Terdapat 158 data outliers atau jika dihitung jumlahnya adalah sebesar 9.52 % data outlier dari keseluruhan data price. "
   ]
  },
  {
   "cell_type": "code",
   "execution_count": 23,
   "metadata": {},
   "outputs": [
    {
     "data": {
      "image/png": "[encoded data removed]",
      "text/plain": [
       "<Figure size 720x1440 with 1 Axes>"
      ]
     },
     "metadata": {
      "needs_background": "light"
     },
     "output_type": "display_data"
    }
   ],
   "source": [
    "df_price['price'].plot(kind='box', title='Price', figsize=(10,20))\n",
    "plt.show()"
   ]
  },
  {
   "cell_type": "markdown",
   "metadata": {},
   "source": [
    "Dapat diasumsikan bahwa jumlah nilai ekstrim ini cukup besar jika dibandingkan dengan jumlah total data. \n",
    "Untuk itu dalam menangani outlier ini akan dilakukan metode censoring atau menerapkan batasan"
   ]
  },
  {
   "cell_type": "code",
   "execution_count": 24,
   "metadata": {},
   "outputs": [],
   "source": [
    "df_price['price'] = np.where(df_price['price']>13750.0, 13750.0,df_price['price'])"
   ]
  },
  {
   "cell_type": "code",
   "execution_count": 26,
   "metadata": {},
   "outputs": [
    {
     "name": "stdout",
     "output_type": "stream",
     "text": [
      "1.1802768882299697\n"
     ]
    }
   ],
   "source": [
    "skew2 = print(df_price['price'].skew())\n",
    "skew2"
   ]
  },
  {
   "cell_type": "code",
   "execution_count": null,
   "metadata": {},
   "outputs": [
    {
     "data": {
      "image/png": "[encoded data removed]",
      "text/plain": [
       "<Figure size 432x288 with 1 Axes>"
      ]
     },
     "metadata": {
      "needs_background": "light"
     },
     "output_type": "display_data"
    }
   ],
   "source": [
    "df_pricebaru = df_price['price']\n",
    "df_pricebaru.plot.hist(title='Price Apartment Without Outlier ', color='lightblue', bins=25)\n",
    "plt.axvline(df_pricebaru.mean(), color='red', linestyle='dashed', linewidth=2)\n",
    "plt.axvline(df_pricebaru.median(), color='green', linestyle='dashed', linewidth=2)\n",
    "plt.show()"
   ]
  },
  {
   "cell_type": "code",
   "execution_count": null,
   "metadata": {},
   "outputs": [
    {
     "data": {
      "text/plain": [
       "<AxesSubplot:ylabel='price'>"
      ]
     },
     "execution_count": 40,
     "metadata": {},
     "output_type": "execute_result"
    },
    {
     "data": {
      "image/png": "[encoded data removed]",
      "text/plain": [
       "<Figure size 432x288 with 1 Axes>"
      ]
     },
     "metadata": {
      "needs_background": "light"
     },
     "output_type": "display_data"
    }
   ],
   "source": [
    "sns.boxplot(data=df_price, y='price')"
   ]
  },
  {
   "cell_type": "markdown",
   "metadata": {},
   "source": [
    "sudah tidak ada outliers "
   ]
  },
  {
   "cell_type": "code",
   "execution_count": null,
   "metadata": {},
   "outputs": [],
   "source": [
    "df_price_baru = df_price.copy()"
   ]
  },
  {
   "cell_type": "code",
   "execution_count": null,
   "metadata": {},
   "outputs": [
    {
     "name": "stdout",
     "output_type": "stream",
     "text": [
      "Mean: 3911.409529553679\n",
      "Median: 2700.0\n",
      "Mode: 0.0\n"
     ]
    }
   ],
   "source": [
    "mean_baru = print ('Mean: ' + str(df_price_baru['price'].mean()))\n",
    "median_baru = print ('Median: ' + str(df_price_baru['price'].median()))\n",
    "mode_baru = print ('Mode: ' + str(df_price_baru['price'].mode()[0]))"
   ]
  },
  {
   "cell_type": "markdown",
   "metadata": {},
   "source": [
    "1. Berapa rata-rata, median, dan modus dari data tersebut sebelum dihilangkan outliernya? Bagaimana kecerendungan pemusatan datanya? jelaskan jawabanmu!\n",
    "\n",
    "Jawab:\n",
    "\n",
    "Central tendency dengan Outlier \n",
    "\n",
    "- Mean: 5166.355247285886\n",
    "- Median: 2700.0\n",
    "- Mode: 0 \n",
    "\n",
    "\n",
    "Central Tendency tanpa Outlier \n",
    "- Mean: 3911.409529553679\n",
    "- Median: 2700.0\n",
    "- Mode: 0.0\n",
    "\n",
    "\n",
    "Sebelum dihilangkan outlier nya, Nilai mean lebih besar dari pada nilai median, dapat diasumsikan bahwa terdapat persebaran data yang bernilai cukup besar atau banyak outlier(nilai ekstrem) yang menyebabkan rata rata menajadi lebih besar. "
   ]
  },
  {
   "cell_type": "markdown",
   "metadata": {},
   "source": [
    "\n",
    "2. Sebelum melakukan extreme value analysis, kamu harus melakukan pengecekan skewness dari distribusi datanya. Apakah datanya skew atau normal? jelaskan jawabanmu!\n",
    "\n",
    "Jawab : \n",
    "Setelah dilakukan pengecekan skewness, hasilnya bernilai = 4.2401362864090695, \n",
    "Dengan kondisi Jika skewness kurang dari -1 atau lebih 1 maka data highly skewed.\n",
    "Dapat diasumsikan bahwa data df_price merupakan highly skewed dan memiliki right skew. Dilihat dari visualisasi plot nya pun data memiliki right skew.\n",
    "\n"
   ]
  },
  {
   "cell_type": "markdown",
   "metadata": {},
   "source": [
    "3. Ada dua teknik untuk melakukan extreme value analysis, teknik yang mana yang kamu pakai? berikan alasanmu berdasarkan data!\n",
    "\n",
    "Jawab:\n",
    "\n",
    "metode yang digunakan untuk menganalisis nilai ekstrim dalam hal ini adalah metode jangkauan antar kuantil. metode ini digunakan karena sebaran data dalam analisis ini memiliki skewness sebesar 4 lebih dan metode z-score hanya dapat digunakan pada data yang berdistribusi normal. \n",
    "\n"
   ]
  },
  {
   "cell_type": "code",
   "execution_count": null,
   "metadata": {},
   "outputs": [],
   "source": []
  }
 ],
 "metadata": {
  "kernelspec": {
   "display_name": "Python 3.9.12 ('base')",
   "language": "python",
   "name": "python3"
  },
  "language_info": {
   "codemirror_mode": {
    "name": "ipython",
    "version": 3
   },
   "file_extension": ".py",
   "mimetype": "text/x-python",
   "name": "python",
   "nbconvert_exporter": "python",
   "pygments_lexer": "ipython3",
   "version": "3.9.12"
  },
  "orig_nbformat": 4,
  "vscode": {
   "interpreter": {
    "hash": "a71a9e4fb054fff428071484f7faa898cb9ecb31a518fe88e3463da9af879578"
   }
  }
 },
 "nbformat": 4,
 "nbformat_minor": 2
}
